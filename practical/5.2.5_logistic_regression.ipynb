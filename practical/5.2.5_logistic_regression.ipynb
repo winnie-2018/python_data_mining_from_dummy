{
 "cells": [
  {
   "cell_type": "markdown",
   "metadata": {},
   "source": [
    "## 5.2.5 Logistic Regression Implementation\n",
    "\n",
    "Regression trees are comparable in function to classification trees. They may also be used for numeric estimation problems when the target variable is numeric or continuous: for example, predicting the price of a product based on several input variables. \n",
    "\n",
    "The commonly used regression approach for classification problems is the Logistic Regression. Remember that the predictors or input variables may be categorical or numeric in either case. It is the target variable that determines the type of prediction required.\n",
    "\n",
    "We will not examine the concept of Regression again in this course because students are expected to have learned Regression algorithms concepts in Statistics-related courses such as the Statistical Methods for Data Science course.\n",
    "\n",
    "To demonstrate how we can use Python to build a classifier model using the Regression approach with the `LogisticRegression()` function, the following codes show the example of the implementation for the customer churn data set."
   ]
  },
  {
   "cell_type": "code",
   "execution_count": null,
   "metadata": {},
   "outputs": [],
   "source": [
    "#Importing necessary Libraries\n",
    "import warnings\n",
    "warnings.filterwarnings('ignore')\n",
    "import numpy as np\n",
    "import pandas as pd\n",
    "\n",
    "#Loading Dataset\n",
    "data = pd.read_csv('data/ChurnFinal.csv')\n",
    "\n",
    "#Generating Matrix of Features\n",
    "df_inputs = pd.get_dummies(data[['Gender', 'Age', 'PostalCode', 'Cash', \n",
    "        'CreditCard', 'Cheque', 'SinceLastTrx', 'SqrtTotal', 'SqrtMax', 'SqrtMin']])\n",
    "df_label = data['Churn']\n",
    "\n",
    "#Splitting dataset into training and testing dataset\n",
    "from sklearn.model_selection import train_test_split\n",
    "X_train,X_test,Y_train,Y_test = train_test_split(df_inputs, df_label, \n",
    "                stratify=df_label, test_size=0.3, random_state=7)\n",
    "\n",
    "# scaling to remove potential outliers\n",
    "from sklearn.preprocessing import StandardScaler  \n",
    "scaler = StandardScaler()  \n",
    "scaler.fit(X_train)                     \n",
    "X_train = scaler.transform(X_train)  \n",
    "X_test = scaler.transform(X_test)      \n",
    "\n",
    "from sklearn.linear_model import LogisticRegression\n",
    "lg = LogisticRegression(solver='liblinear',  random_state=7, max_iter=300)\n",
    "lg.fit(X_train, Y_train)\n",
    "\n",
    "# obtain the model intercept and coefficient of each input attribute\n",
    "print(f\"intercept: {np.round(lg.intercept_,4)}\")\n",
    "fieldList = np.array(list(df_inputs)).reshape(-1,1)\n",
    "coeffs = np.reshape(np.round(lg.coef_,2),(-1,1))\n",
    "coeffs=np.concatenate((fieldList,coeffs),axis=1)\n",
    "print(pd.DataFrame(coeffs,columns=['Attribute','Coefficient']))\n",
    "\n",
    "# fit the model to compare predicted and actual target output values\n",
    "y_predict = lg.predict(X_test)      \n",
    "\n",
    "# assess the model permance\n",
    "from sklearn import metrics \n",
    "print(\"Model Accuracy     : \", round(metrics.accuracy_score(Y_test, y_predict),4))"
   ]
  },
  {
   "cell_type": "markdown",
   "metadata": {},
   "source": [
    "Observe the model accuracy of 0.7626 printed on the console terminal as Moddel Accuracy :     0.7625.  This result indicates that the model has an accuracy of 76.25%, implying that 76.25% of the time it correctly classifies churn outcomes ('yes' or 'no').\n",
    "\n",
    "We also observe the output of `intercept: [0.03]` with the Coefficient (in 2 decimal points) of each input attribute as follows: \n",
    "- Age = 0.59\n",
    "- PostalCode = -0.01\n",
    "- Cash = 0.05\n",
    "- CreditCard = -0.40\n",
    "- Cheque = -0.14\n",
    "- SinceLastTrx = 0.69\n",
    "- SqrtTotal = -0.25\n",
    "- SqrtMax = -0.19\n",
    "- SqrtMin = 0.12\n",
    "- Gender_male = -0.29. \n",
    "\n",
    "Thus, the generated Logistic Regression model is mathematically represented as follows:\n",
    "\n",
    "       Churn = 0.03 + 0.59(Age) - 0.01(PostalCode) + 0.05(Cash) - 0.40(CreditCard) - 0.14(Cheque)\n",
    "                        + 0.69(SinceLastTrx) -  0.25(SqrtTotal) -  0.19(SqrtMax) + 0.12(SqrtMin) - 0.29(Gender_male)\n",
    "\n",
    "For a detailed explanation of the LogisticRegression() API parameters, refer to the official website, https://scikit-learn.org/stable/modules/generated/sklearn.linear_model.LogisticRegression.html?highlight=logisticregression#sklearn.linear_model.LogisticRegression "
   ]
  }
 ],
 "metadata": {
  "kernelspec": {
   "display_name": "Python 3",
   "language": "python",
   "name": "python3"
  },
  "language_info": {
   "name": "python",
   "version": "3.12.2"
  }
 },
 "nbformat": 4,
 "nbformat_minor": 2
}
