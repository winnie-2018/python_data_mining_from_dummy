{
 "cells": [
  {
   "cell_type": "markdown",
   "metadata": {},
   "source": [
    "## 3.4.3 Understanding Data Statistics for Pre-processing\n",
    "The statistics methods for understanding how the values in a dataset for an attribute distribute across the value range they can take are skewness, mean, min, max, and mode.\n",
    "\n",
    "\n",
    "## Exploring Numerical Attributes' Data\n",
    "To explore attributes with numerical data types, for example, using the `describe()` function to observe the basic statistics of all numerical attributes. \n",
    "\n",
    "We can also use statistical functions such as the `skew()` function to observe a specific attribute's skewness. Returning to the merged dataset, `CustomerChurn`, we can use the following codes for exploring data statistics:"
   ]
  },
  {
   "cell_type": "code",
   "execution_count": 1,
   "metadata": {},
   "outputs": [
    {
     "name": "stdout",
     "output_type": "stream",
     "text": [
      "       Unnamed: 0   CustomerId         Age  PostalCode  MinTrxValue  \\\n",
      "count  996.000000   996.000000  996.000000  996.000000   996.000000   \n",
      "mean   499.056225   500.228916   45.487952    4.616466    85.809498   \n",
      "std    288.749769   288.614980   18.883213    1.692873   162.920287   \n",
      "min      0.000000     1.000000    0.000000    1.000000     0.000000   \n",
      "25%    248.750000   250.750000   29.750000    3.000000     0.297500   \n",
      "50%    499.500000   499.500000   44.000000    5.000000     5.940000   \n",
      "75%    748.250000   750.250000   58.000000    6.000000    79.940000   \n",
      "max    999.000000  1000.000000   91.000000    9.000000   987.520000   \n",
      "\n",
      "       MaxTrxValue  TotalTrxValue        Cash  CreditCard      Cheque  \\\n",
      "count   996.000000     996.000000  996.000000  996.000000  996.000000   \n",
      "mean    242.864639     336.115994    0.424699    0.722892    0.269076   \n",
      "std     173.963382     215.235056    0.494546    0.447795    0.443703   \n",
      "min       0.880000       2.480000    0.000000    0.000000    0.000000   \n",
      "25%     115.960000     173.535000    0.000000    0.000000    0.000000   \n",
      "50%     211.040000     312.755000    0.000000    1.000000    0.000000   \n",
      "75%     339.000000     451.137500    1.000000    1.000000    1.000000   \n",
      "max     992.260000    1119.420000    1.000000    1.000000    1.000000   \n",
      "\n",
      "       SinceLastTrx  \n",
      "count    996.000000  \n",
      "mean     776.876506  \n",
      "std      314.951613  \n",
      "min        5.000000  \n",
      "25%      536.000000  \n",
      "50%      766.000000  \n",
      "75%     1016.750000  \n",
      "max     1558.000000  \n",
      "-----------Skewness--------------\n",
      "Unnamed: 0      -0.000344\n",
      "CustomerId       0.004831\n",
      "Age              0.377679\n",
      "PostalCode       0.221094\n",
      "MinTrxValue      2.445896\n",
      "MaxTrxValue      1.022249\n",
      "TotalTrxValue    0.701916\n",
      "Cash             0.305140\n",
      "CreditCard      -0.997509\n",
      "Cheque           1.042989\n",
      "SinceLastTrx     0.017665\n",
      "dtype: float64\n"
     ]
    }
   ],
   "source": [
    "import warnings\n",
    "warnings.filterwarnings('ignore')\n",
    "import pandas as pd\n",
    "\n",
    "df = pd.read_csv('data/CustomerChurn.csv')\n",
    "\n",
    "# show basic statistics for numerical columns (count, mean, std, min, max, 25%, 50%, 75%)\n",
    "print(df.describe())   \n",
    "\n",
    "df1 = df.drop(['Gender', 'Churn'], axis=1)\n",
    "\n",
    "# show skewness and kurtusis of a particular columns\n",
    "print('-----------Skewness--------------')\n",
    "print(df1.skew())"
   ]
  },
  {
   "cell_type": "markdown",
   "metadata": {},
   "source": [
    "Generally, the skewness for a normal distribution is zero, and any symmetric data should have a skewness near zero. However, based on the `skew()` function results, we observe that the `MinTrxValue`, `MaxTrxValue`, `TotalTrxValue`, `CreditCard`, and `Cheque` attributes have a skewed distribution with skewness values not near zero when rounded to the numbers. \n",
    "\n",
    "There are many more statistical functions available in the Python programming environment. In addition, students can try out other functions as additional learning activities.\n",
    "\n",
    "As we understand from the metadata described in Week 2, the `Cash`, `CreditCard`, and `Cheque` attributes' data value of 1 indicate if a customer used to pay by cash, credit card, or cheque, or 0. Therefore, since they only contain two values, we ignore the skewness findings but further explore to confirm if their values should fall within 0 or 1.\n",
    "\n",
    "In the next Section 4.4, we will use the above skewness findings to explore further the data of the the MinTrxValue, `MaxTrxValue`, `TotalTrxValue`,`CCreditCard`, and `Cheque` attributes to detect if outliers exist.\n",
    "\n",
    "### Exploring Categorical and Binary Attributes' Data\n",
    "The Python function `value_counts()` shows the counts of each value of an attribute. We can also use the `value_count()` to identify if specific attribute data fall within the expected values or range. \n",
    "\n",
    "To explore attributes with character data types (i.e., categorical), for example, using the following Python functions to observe the categorical attributes `Gender`, `PostalCode`, and `Churn`,  we can use the following codes:"
   ]
  },
  {
   "cell_type": "code",
   "execution_count": 2,
   "metadata": {},
   "outputs": [
    {
     "name": "stdout",
     "output_type": "stream",
     "text": [
      "Gender\n",
      "male        496\n",
      "female      400\n",
      "mänlich      51\n",
      "weiblich     49\n",
      "Name: count, dtype: int64\n",
      "Churn\n",
      "yes    502\n",
      "no     494\n",
      "Name: count, dtype: int64\n",
      "PostalCode\n",
      "4    242\n",
      "5    205\n",
      "6    162\n",
      "3    153\n",
      "2     79\n",
      "7     78\n",
      "8     39\n",
      "1     23\n",
      "9     15\n",
      "Name: count, dtype: int64\n",
      "Cash\n",
      "0    573\n",
      "1    423\n",
      "Name: count, dtype: int64\n",
      "Cheque\n",
      "0    728\n",
      "1    268\n",
      "Name: count, dtype: int64\n",
      "CreditCard\n",
      "1    720\n",
      "0    276\n",
      "Name: count, dtype: int64\n"
     ]
    }
   ],
   "source": [
    "# show the values exist in the attribute and their counts\n",
    "print(df['Gender'].value_counts())\n",
    "print(df['Churn'].value_counts())\n",
    "print(df['PostalCode'].value_counts())\n",
    "\n",
    "# further exploration to check values\n",
    "print(df['Cash'].value_counts())\n",
    "print(df['Cheque'].value_counts())\n",
    "print(df['CreditCard'].value_counts())"
   ]
  },
  {
   "cell_type": "markdown",
   "metadata": {},
   "source": [
    "After running the above codes, we can observe that the `Gender` attribute contains four values, `male` (496 rows), `female` (400 rows), `mänlich` (51 rows), and `weiblich` (49 rows). As we learned that the original datasets were collected from Germany, the German terms mänlich and weiblich refer to males and females, respectively. Since they have the same meaning, we should fix this misclassification problem. \n",
    "\n",
    "The `Churn`, `PostalCode`, `Cheque`, and `CreditCard` attributes contain the data falling within the expected values. We expect the PortalCode attribute data values to fall within '1' to '9', the Churn attribute to have 'yes' or 'no', and both CreditCard and Cheque to have 0 or 1. Therefore, no further pre-processing is necessary for them.\n",
    "\n",
    "\n",
    "### Treating Misclassification\n",
    "To tackle the misclassification problem that exists in the Gender attribute, we will replace the value of  `mänlich` value to male, and `weiblich` to female using the following Python codes:"
   ]
  },
  {
   "cell_type": "code",
   "execution_count": 3,
   "metadata": {},
   "outputs": [],
   "source": [
    "# to locate mänlich in Gender attribute and replace it with male\n",
    "df.loc[df['Gender'] == 'mänlich', 'Gender'] = 'male' \n",
    "\n",
    "# to locate weiblich in Gender attribute and replace it with female\n",
    "df.loc[df['Gender'] == 'weiblich', 'Gender'] = 'female'"
   ]
  },
  {
   "cell_type": "markdown",
   "metadata": {},
   "source": [
    "To confirm the misclassification has been fixed, we observe the Gender attribute data again:"
   ]
  },
  {
   "cell_type": "code",
   "execution_count": 4,
   "metadata": {},
   "outputs": [
    {
     "name": "stdout",
     "output_type": "stream",
     "text": [
      "Gender\n",
      "male      547\n",
      "female    449\n",
      "Name: count, dtype: int64\n"
     ]
    }
   ],
   "source": [
    "# to confirm the Gender attribute values are correct\n",
    "print(df['Gender'].value_counts())"
   ]
  },
  {
   "cell_type": "markdown",
   "metadata": {},
   "source": [
    "### Saving the Data after Pre-processing\n",
    "After treating the misclassification problem in the Gender attribute, we save the data and name it ChurnProcessed.csv."
   ]
  },
  {
   "cell_type": "code",
   "execution_count": 5,
   "metadata": {},
   "outputs": [],
   "source": [
    "# save the data into a CSV file \n",
    "df.to_csv('data/ChurnProcessed.csv')"
   ]
  }
 ],
 "metadata": {
  "kernelspec": {
   "display_name": "Python 3",
   "language": "python",
   "name": "python3"
  },
  "language_info": {
   "codemirror_mode": {
    "name": "ipython",
    "version": 3
   },
   "file_extension": ".py",
   "mimetype": "text/x-python",
   "name": "python",
   "nbconvert_exporter": "python",
   "pygments_lexer": "ipython3",
   "version": "3.12.2"
  }
 },
 "nbformat": 4,
 "nbformat_minor": 2
}
