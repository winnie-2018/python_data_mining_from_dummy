{
 "cells": [
  {
   "cell_type": "markdown",
   "metadata": {},
   "source": [
    "## 6.3.1 Sampling Methods using Python\n",
    "The following Python codes demonstrate how we can perform different sampling methods for model evaluation. In the following examples, we will compare the accuracy performance of a model using the sampling methods:\n",
    "\n",
    "Hold-out sampling using the Python `train_test_split()` function\n",
    "\n",
    "k-Fold cross-validation using the Python `KFold()` function;\n",
    "\n",
    "Leave-one-out sampling using the Python LeaveOneOut() function;\n",
    "\n",
    "Bootstrapping method using the Python `train_test_split()` function as the Hold-out method but with different random seeds to choose sample building models.\n",
    "\n",
    "The comments embedded in the codes give descriptions to guide the rationale of the programming logic."
   ]
  },
  {
   "cell_type": "code",
   "execution_count": 1,
   "metadata": {},
   "outputs": [
    {
     "name": "stdout",
     "output_type": "stream",
     "text": [
      "Hold-out method Sampling:  Accuracy = 0.756\n",
      "k-Fold Cross-Validation :  Accuracy = 0.741\n",
      "Leave-One-Out Sampling  :  Accuracy = 0.758\n",
      "Bootstrapping Sampling  :  Accuracy = 0.732\n"
     ]
    }
   ],
   "source": [
    "import pandas as pd\n",
    "import numpy as np\n",
    "from numpy import mean \n",
    "from numpy import abs\n",
    "from sklearn.model_selection import train_test_split \n",
    "from sklearn.model_selection import KFold\n",
    "from sklearn.model_selection import LeaveOneOut\n",
    "from sklearn.model_selection import cross_val_score\n",
    "from sklearn.tree import DecisionTreeClassifier\n",
    "from sklearn import metrics \n",
    "\n",
    "#Loading Dataset\n",
    "data = pd.read_csv('data/ChurnFinal.csv')\n",
    "\n",
    "# specify inputs and label\n",
    "df_inputs = pd.get_dummies(data[['Gender', 'Age', 'PostalCode', 'Cash', 'CreditCard', \n",
    "        'Cheque', 'SinceLastTrx', 'SqrtTotal', 'SqrtMax', 'SqrtMin']])\n",
    "df_label = data['Churn']\n",
    "\n",
    "# create model\n",
    "model = DecisionTreeClassifier(criterion = 'entropy', splitter=\"best\", max_depth=5, \n",
    "            min_samples_leaf=5, min_samples_split=0.1, random_state=1) \n",
    "\n",
    "\n",
    "# ------------ Model evaluation using Hold-out sampling method ------------#\n",
    "# prepare splitting training and test sets\n",
    "X_train, X_test, y_train, y_test = train_test_split(df_inputs, df_label, \n",
    "            stratify=df_label, test_size=0.3, random_state=1) \n",
    "# train models\n",
    "model.fit(X_train, y_train)\n",
    "# apply models for predictions\n",
    "y_predict = model.predict(X_test)\n",
    "# derive accuracy\n",
    "acc = metrics.accuracy_score(y_test, y_predict)\n",
    "# report performance\n",
    "print('Hold-out method Sampling:  Accuracy =',round(acc,3))\n",
    "\n",
    "\n",
    "# ------------ Model evaluation using k-Fold sampling method ------------#\n",
    "# prepare the cross-validation procedure\n",
    "cv = KFold(n_splits=10, random_state=1, shuffle=True)\n",
    "scores = cross_val_score(model, df_inputs.values, df_label.values, scoring='accuracy', \n",
    "            cv=cv, n_jobs=-1)\n",
    "# report performance\n",
    "print('k-Fold Cross-Validation :  Accuracy = %.3f' % (mean(scores)))\n",
    "\n",
    "\n",
    "# ------------ Model evaluation using Leave-one-out method ------------#\n",
    "# prepare leaveoneout procedure\n",
    "cv = LeaveOneOut()\n",
    "scores = cross_val_score(model, df_inputs.values, df_label.values, scoring='accuracy', \n",
    "            cv=cv, n_jobs=-1)\n",
    "# report performance\n",
    "print('Leave-One-Out Sampling  :  Accuracy = %.3f' % (mean(scores)))\n",
    "\n",
    "\n",
    "# ------------ Model evaluation using Bootstrapping method ------------#\n",
    "AccuracyValues=[]\n",
    "n_times=10  # can be any number for sampling\n",
    " \n",
    "# Performing bootstrapping\n",
    "for i in range(n_times):\n",
    "    #Split the data into training and testing set\n",
    "    # by changing the seed value for each iteration\n",
    "    X_train, X_test, y_train, y_test = train_test_split(df_inputs.values, df_label.values, \n",
    "            test_size=0.2, random_state=7+i)\n",
    "    model = DecisionTreeClassifier(criterion = 'entropy', splitter=\"best\", max_depth=5, \n",
    "            min_samples_leaf=5, min_samples_split=0.1, random_state=1) \n",
    "    #Creating the model on Training Data\n",
    "    model.fit(X_train, y_train)\n",
    "    # apply models for predictions\n",
    "    y_predict = model.predict(X_test)\n",
    " \n",
    "    #Measuring accuracy on Testing Data\n",
    "    #Accuracy=100 - (np.mean(np.abs((y_test - y_predict) / y_test)) * 100)\n",
    "    #Accuracy = (y_test - y_predict) / y_test\n",
    "    acc = metrics.accuracy_score(y_test, y_predict)\n",
    "    # Storing accuracy values\n",
    "    AccuracyValues.append(np.round(acc, 5))\n",
    "\n",
    "# Result of all bootstrapping trials as averaged accuracy\n",
    "print('Bootstrapping Sampling  :  Accuracy =',round(np.mean(AccuracyValues),3))"
   ]
  },
  {
   "cell_type": "markdown",
   "metadata": {},
   "source": [
    "After running the above Python codes, we observe that different sampling methods yield different model accuracy results. Depending on the nature of the data set used for modeling, we choose suitable sampling methods according to their characteristics, the initial available data set size, and maybe the business requirements if there is any specific need, particularly sampling methods.\n",
    "\n",
    "\n",
    "**NOTE**: For a more detailed explanation of the Python functions to support sampling methods, i.e., `train_test_split()`, `KFold()`, and `LeaveOneOut()`, students can refer to the official websites as follow, respectively:\n",
    "- https://scikit-learn.org/stable/modules/generated/sklearn.model_selection.train_test_split.html \n",
    "- https://scikit-learn.org/stable/modules/generated/sklearn.model_selection.KFold.html\n",
    "- https://scikit-learn.org/stable/modules/generated/sklearn.model_selection.LeaveOneOut.html"
   ]
  }
 ],
 "metadata": {
  "kernelspec": {
   "display_name": "Python 3",
   "language": "python",
   "name": "python3"
  },
  "language_info": {
   "codemirror_mode": {
    "name": "ipython",
    "version": 3
   },
   "file_extension": ".py",
   "mimetype": "text/x-python",
   "name": "python",
   "nbconvert_exporter": "python",
   "pygments_lexer": "ipython3",
   "version": "3.12.2"
  }
 },
 "nbformat": 4,
 "nbformat_minor": 2
}
