{
 "cells": [
  {
   "cell_type": "markdown",
   "metadata": {},
   "source": [
    "## 5.2.7 Ensemble Learning Implementation\n",
    "\n",
    "Ensemble modeling is a process in which multiple diverse models are developed to predict an outcome using different modeling algorithms or training data sets. The ensemble model then aggregates each base model's prediction and results in the final prediction for the unknown data.\n",
    "\n",
    "A brief overview of different Ensemble modeling is given in Section 5.2.6. In the following, we will use the different ensemble learning methods to solve the customer churn classification problem using Python for the implementation. \n",
    "\n",
    "For all the available Ensemble methods that can be implemented in Python and their APIs, students can refer to https://scikit-learn.org/stable/modules/ensemble.html?highlight=xgboost#\n",
    "\n",
    "\n",
    "The following Python codes show the implementation of Bagging-based, Boosting-based, and Voting-based Ensemble models. The comments embedded in the codes give explanations to guide the rationale of the programming logic."
   ]
  },
  {
   "cell_type": "code",
   "execution_count": 5,
   "metadata": {},
   "outputs": [
    {
     "name": "stdout",
     "output_type": "stream",
     "text": [
      "BaggingClassifier  Ensemble accuracy:  0.74\n",
      "AdaBoostClassifier  Ensemble accuracy:  0.735\n",
      "VotingClassifier  Ensemble accuracy:  0.73\n"
     ]
    }
   ],
   "source": [
    "#import necessary libraries\n",
    "import warnings\n",
    "warnings.filterwarnings('ignore')\n",
    "import pandas as pd\n",
    "import numpy as np\n",
    "\n",
    "#Loading Dataset and specify inputs/output\n",
    "data = pd.read_csv('data/ChurnFinal.csv')\n",
    "X = pd.get_dummies(data[['Gender', 'Age', 'PostalCode', 'Cash', 'CreditCard', \n",
    "        'Cheque', 'SinceLastTrx', 'SqrtTotal', 'SqrtMax', 'SqrtMin']])\n",
    "Y = data['Churn']\n",
    "\n",
    "#Splitting dataset into training and testing dataset\n",
    "from sklearn.model_selection import train_test_split\n",
    "X_train,X_test,Y_train,Y_test = train_test_split(X, Y, stratify=Y, \n",
    "        test_size=0.2, random_state=1)\n",
    "\n",
    "# feature scaling\n",
    "from sklearn.preprocessing import StandardScaler  \n",
    "scaler = StandardScaler()  \n",
    "scaler.fit(X_train)                     \n",
    "X_train = scaler.transform(X_train)  \n",
    "X_test = scaler.transform(X_test)       #\n",
    "\n",
    "# Bagged-based Ensenble using Decision Trees for classification\n",
    "from sklearn import model_selection\n",
    "from sklearn.ensemble import BaggingClassifier\n",
    "from sklearn.tree import DecisionTreeClassifier\n",
    "\n",
    "cart = DecisionTreeClassifier()\n",
    "num_trees = 100\n",
    "\n",
    "# create the sub models using multiple Decision Trees, e.g. 100 trees\n",
    "es_Bag = BaggingClassifier(estimator=cart, n_estimators=num_trees, random_state=7)\n",
    "\n",
    "# Boosting-based Ensemble using AdaBoost Classification wiht DEcision Trees\n",
    "from sklearn.ensemble import AdaBoostClassifier\n",
    "num_trees = 100\n",
    "# create the sub models using multiple Decision Trees, e.g. 100 trees\n",
    "es_Boost = AdaBoostClassifier(n_estimators=num_trees, random_state=7)\n",
    "\n",
    "# Voting-based Ensemble for Classification using variouus methods\n",
    "from sklearn.linear_model import LogisticRegression\n",
    "from sklearn.tree import DecisionTreeClassifier\n",
    "from sklearn.svm import SVC\n",
    "from sklearn.neural_network import MLPClassifier \n",
    "from sklearn.ensemble import VotingClassifier\n",
    "\n",
    "# create the sub models using LogisticRegression, DecisionTree, and SupportVector\n",
    "estimators = []\n",
    "model1 = LogisticRegression(random_state=7)  # Logistic Regression Classifier\n",
    "estimators.append(('logistic', model1))\n",
    "model2 = DecisionTreeClassifier(random_state=7) # Decision Tree Classifier\n",
    "estimators.append(('cart', model2))\n",
    "model3 = SVC(random_state=7) #Support Vector Classifier\n",
    "estimators.append(('svc', model3))\n",
    "\n",
    "# create the ensemble model\n",
    "es_Vote = VotingClassifier(estimators)\n",
    "\n",
    "# Model performance\n",
    "from sklearn import metrics \n",
    "# use for-loop to print the performance of each ensemble model\n",
    "for model in (es_Bag, es_Boost, es_Vote):\n",
    "        model.fit(X_train, Y_train)\n",
    "        y_predict = model.predict(X_test)       \n",
    "        print(model.__class__.__name__, ' Ensemble accuracy: ', \n",
    "                metrics.accuracy_score(Y_test, y_predict))"
   ]
  },
  {
   "cell_type": "markdown",
   "metadata": {},
   "source": [
    "These results indicate that with the parameter settings defined in the codes, Bagging-based Ensemble performs slightly better with an accuracy of 0.74 compared to Boosting-based and Voting-based learning methods using the customer churn data set."
   ]
  }
 ],
 "metadata": {
  "kernelspec": {
   "display_name": "Python 3",
   "language": "python",
   "name": "python3"
  },
  "language_info": {
   "codemirror_mode": {
    "name": "ipython",
    "version": 3
   },
   "file_extension": ".py",
   "mimetype": "text/x-python",
   "name": "python",
   "nbconvert_exporter": "python",
   "pygments_lexer": "ipython3",
   "version": "3.12.2"
  }
 },
 "nbformat": 4,
 "nbformat_minor": 2
}
