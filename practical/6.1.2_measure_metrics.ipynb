{
 "cells": [
  {
   "cell_type": "markdown",
   "metadata": {},
   "source": [
    "## 6.1.2 Metrics Measures using Python\n",
    "The following Python codes demonstrate how we can derive the measures of a confusion matrix. The comments embedded in the codes give descriptions to guide the rationale of the programming logic."
   ]
  },
  {
   "cell_type": "code",
   "execution_count": 1,
   "metadata": {},
   "outputs": [
    {
     "name": "stdout",
     "output_type": "stream",
     "text": [
      "Accuracy :  0.756\n",
      "Misclassification :  0.244\n",
      "Precision :  0.729\n",
      "Sensitivity/Recall 1:  0.821\n",
      "Specificity/Recall 0:  0.689\n",
      "F1-measure :  0.773\n"
     ]
    }
   ],
   "source": [
    "# import necessary libraries\n",
    "import pandas as pd \n",
    "from sklearn.tree import DecisionTreeClassifier \n",
    "from sklearn.model_selection import train_test_split \n",
    "from sklearn import metrics \n",
    "import numpy as np \n",
    "\n",
    "#specify dataset source\n",
    "df = pd.read_csv('data/ChurnFinal.csv') \n",
    "\n",
    "# need to convert categorical to numeric for Python ROC and AUC calculations\n",
    "df_inputs = pd.get_dummies(df[['Gender', 'Age', 'PostalCode', 'Cash', 'CreditCard', \n",
    "            'Cheque', 'SinceLastTrx', 'SqrtTotal', 'SqrtMax', 'SqrtMin']]) \n",
    "df_label = df['Churn']\n",
    "\n",
    "# initiate modelling object, and split train and test sets\n",
    "dtree = DecisionTreeClassifier(criterion = 'entropy', splitter=\"best\", max_depth=5, \n",
    "            min_samples_leaf=5, min_samples_split=0.1, random_state=42)\n",
    "X_train, X_test, y_train, y_test = train_test_split(df_inputs, df_label, \n",
    "            stratify=df_label, test_size=0.3, random_state=1) \n",
    "\n",
    "# train model with decision tree algorithm  \n",
    "dtree.fit(X_train, y_train) \n",
    "\n",
    "# apply the model to predict data\n",
    "y_predict = dtree.predict(X_test)\n",
    "\n",
    "# Using metrics' function parameters to derive performance measures\n",
    "acc = metrics.accuracy_score(y_test, y_predict) \n",
    "sens = metrics.recall_score(y_test, y_predict,average='binary', pos_label='yes') \n",
    "spec = metrics.recall_score(y_test, y_predict,average='binary', pos_label='no') \n",
    "prec = metrics.precision_score(y_test, y_predict,average='binary', pos_label='yes') \n",
    "f1 = metrics.f1_score(y_test, y_predict,average='binary', pos_label='yes') \n",
    "\n",
    "# display all the measures derived\n",
    "print(\"Accuracy : \", round(acc,3)) \n",
    "print(\"Misclassification : \", round(1-acc,3)) \n",
    "print(\"Precision : \", round(prec,3)) \n",
    "print(\"Sensitivity/Recall 1: \", round(sens,3)) \n",
    "print(\"Specificity/Recall 0: \", round(spec,3)) \n",
    "print(\"F1-measure : \", round(f1,3)) "
   ]
  },
  {
   "cell_type": "markdown",
   "metadata": {},
   "source": [
    "Based on the results, we can interpret that the performance of the model built as follows:\n",
    "- Accuracy: Overall, the model correctly predicts 75.6% of the churn labels (i.e.'yes' and 'no'). \n",
    "- Misclassification: Overall, the model misclassified 24.4% of the churn labels (i.e., 'yes' and 'no').\n",
    "- Sensitivity: Of all the customers who churned (i.e., 'yes'), 82.1% of them were correctly predicted by the model.\n",
    "- Specificity: Of all the customers who were not churned (i.e., 'no'), 68.9% of them were correctly predicted by the model.\n",
    "- Precision: 72.9% of those predicted as churn (i.e., 'yes') by the model are actually churned.\n",
    "- F1 score: The harmonic mean(average) of the precision and recall/sensitivity is 77.3%."
   ]
  }
 ],
 "metadata": {
  "kernelspec": {
   "display_name": "Python 3",
   "language": "python",
   "name": "python3"
  },
  "language_info": {
   "codemirror_mode": {
    "name": "ipython",
    "version": 3
   },
   "file_extension": ".py",
   "mimetype": "text/x-python",
   "name": "python",
   "nbconvert_exporter": "python",
   "pygments_lexer": "ipython3",
   "version": "3.12.2"
  }
 },
 "nbformat": 4,
 "nbformat_minor": 2
}
