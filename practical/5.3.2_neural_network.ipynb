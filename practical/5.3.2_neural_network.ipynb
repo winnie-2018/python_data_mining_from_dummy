{
 "cells": [
  {
   "cell_type": "markdown",
   "metadata": {},
   "source": [
    "## 5.3.2 Neural Networks\n",
    "In this section, we will implement Estimation to estimate the likelihood that a given customer will churn based on his/her demographic and transaction profiles. \n",
    "\n",
    "For the purpose of demonstrating the concept of Estimation modeling, and reusing the same churn dataset,  we need to transform the initially categorical target attribute type values ('yes' or 'no')  with numeric  values (1 or 0), though not entirely precise but somehow the 1 and 0 present a churn estimate value. \n",
    "\n",
    "The following Python codes show the example implementation of the data modeling phase to solve the Estimation problem using the Pyhton-supported Neural Networks' Multi-layer Perceptron Regressor (i.e., `MLPRegressor()` function) algorithm.  The comments embedded in the codes give explanations to guide the rationale of the programming logic."
   ]
  },
  {
   "cell_type": "code",
   "execution_count": 1,
   "metadata": {},
   "outputs": [
    {
     "name": "stdout",
     "output_type": "stream",
     "text": [
      "Mean Squared Error(MSE):  0.207\n"
     ]
    }
   ],
   "source": [
    "# import necessary libraries\n",
    "import warnings\n",
    "warnings.filterwarnings('ignore')\n",
    "import pandas as pd\n",
    "from sklearn.model_selection import train_test_split \n",
    "from sklearn import metrics \n",
    "from sklearn.neural_network import MLPRegressor \n",
    "\n",
    "# access dataset from source\n",
    "df = pd.read_csv('data/ChurnFinal.csv')\n",
    "\n",
    "# convert data types to numeric/float for Estimation modeling\n",
    "df.loc[df['Churn'] == 'yes', 'Churn'] = 1\n",
    "df.loc[df['Churn'] == 'no', 'Churn'] = 0\n",
    "df['Churn'] = pd.to_numeric(df['Churn'], errors='coerce').astype('float')\n",
    "\n",
    "# specify inputs and label\n",
    "df_inputs = pd.get_dummies(df[['Gender', 'Age', 'PostalCode', 'Cash', 'CreditCard', \n",
    "            'Cheque', 'SinceLastTrx', 'SqrtTotal', 'SqrtMax', 'SqrtMin']])\n",
    "df_label = df['Churn']\n",
    "\n",
    "#The random state is a random seed number generator to ensure same order number.\n",
    "#Splitting dataset into training and testing dataset\n",
    "from sklearn.model_selection import train_test_split\n",
    "X_train,X_test,Y_train,Y_test = train_test_split(df_inputs, df_label, \n",
    "                test_size=0.2, random_state=1)\n",
    "\n",
    "# feature scaling\n",
    "from sklearn.preprocessing import StandardScaler  \n",
    "scaler = StandardScaler()  \n",
    "scaler.fit(X_train)                       \n",
    "X_train = scaler.transform(X_train)  \n",
    "X_test = scaler.transform(X_test)      \n",
    "\n",
    "# create a MLPRegressor object \n",
    "mlp = MLPRegressor(\n",
    "    hidden_layer_sizes=(100,),  activation='relu', solver='adam', alpha=1e-05, \n",
    "    batch_size='auto', learning_rate='constant', learning_rate_init=0.0001, \n",
    "    power_t=0.5, max_iter=1000, shuffle=True, random_state=0, tol=0.0001, \n",
    "    verbose=False, warm_start=False, momentum=0.9, nesterovs_momentum=True,\n",
    "    early_stopping=False, validation_fraction=0.1, beta_1=0.9, beta_2=0.999, \n",
    "    epsilon=1e-08)\n",
    "\n",
    "# train the model using train data set\n",
    "mlp.fit(X_train, Y_train)\n",
    "\n",
    "#apply the created model using test data set \n",
    "y_predict = mlp.predict(X_test)   \n",
    "\n",
    "# assess the model performance using mean squared error\n",
    "print('Mean Squared Error(MSE): ', \n",
    "            round(metrics.mean_squared_error(Y_test, y_predict),3))"
   ]
  },
  {
   "cell_type": "markdown",
   "metadata": {},
   "source": [
    "After running all the codes together given above, we obtain the model performance in Mean Squared Error (MSE) of 0.209 printed on the console terminal as Mean Squared Error (MSE): 0.209. This error indicates that the model has a variance of 0.209 in predicting the estimated churn likelihood compared to the actual value.\n",
    "\n",
    "\n",
    "NOTE: Besides MSE, we will examine more measures of model performance in Week 6. \n",
    "\n",
    "For a detailed explanation of the `MLPRegressor()` API parameters, refer to the official website, https://scikit-learn.org/stable/modules/generated/sklearn.neural_network.MLPRegressor.html#sklearn.neural_network.MLPRegressor"
   ]
  }
 ],
 "metadata": {
  "kernelspec": {
   "display_name": "Python 3",
   "language": "python",
   "name": "python3"
  },
  "language_info": {
   "codemirror_mode": {
    "name": "ipython",
    "version": 3
   },
   "file_extension": ".py",
   "mimetype": "text/x-python",
   "name": "python",
   "nbconvert_exporter": "python",
   "pygments_lexer": "ipython3",
   "version": "3.12.2"
  }
 },
 "nbformat": 4,
 "nbformat_minor": 2
}
