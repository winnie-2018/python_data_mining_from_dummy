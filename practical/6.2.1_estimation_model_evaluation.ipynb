{
 "cells": [
  {
   "cell_type": "markdown",
   "metadata": {},
   "source": [
    "## 6.2.1 Estimation Model Evaluation using Python\n",
    "\n",
    "The following Python codes demonstrate examples of how we can derive the error measures for a model's performance evaluation. In the examples, we use a for loop to split the initial data set into different sizes of test sets, i.e., 20% (ratio of 0.2), 30% (ratio of 0.3), and 40% (ratio of 0.4). Then, compare the model performance based on different test sets.\n",
    "\n",
    "The comments embedded in the codes give descriptions to guide the rationale of the programming logic."
   ]
  },
  {
   "cell_type": "code",
   "execution_count": 1,
   "metadata": {},
   "outputs": [
    {
     "name": "stdout",
     "output_type": "stream",
     "text": [
      "Test set size  0.2 : MSE = 0.197 , RMSE = 0.444 , MAE = 0.388 , R2 = 0.21\n",
      "Test set size  0.3 : MSE = 0.182 , RMSE = 0.426 , MAE = 0.372 , R2 = 0.271\n",
      "Test set size  0.4 : MSE = 0.19 , RMSE = 0.436 , MAE = 0.377 , R2 = 0.239\n"
     ]
    }
   ],
   "source": [
    "# import necessary libraries\n",
    "import warnings\n",
    "warnings.filterwarnings('ignore')\n",
    "import pandas as pd\n",
    "from sklearn.model_selection import train_test_split \n",
    "from sklearn import metrics \n",
    "import math\n",
    "from sklearn.linear_model import LinearRegression\n",
    "\n",
    "# specify dataset source, train and test sets\n",
    "df = pd.read_csv('data/ChurnFinal.csv')\n",
    "\n",
    "# need to convert categorical to numeric for Python Estimation modeling\n",
    "df.loc[df['Churn'] == 'yes', 'Churn'] = 1\n",
    "df.loc[df['Churn'] == 'no', 'Churn'] = 0\n",
    "df['Churn'] = pd.to_numeric(df['Churn'], errors='coerce').astype('float')\n",
    "\n",
    "# specify inputs and label\n",
    "df_inputs = pd.get_dummies(df[['Gender', 'Age', 'PostalCode', 'Cash', 'CreditCard', \n",
    "           'Cheque', 'SinceLastTrx', 'SqrtTotal', 'SqrtMax', 'SqrtMin']])\n",
    "df_label = df['Churn']\n",
    "\n",
    "# create a multiple linear regression model object\n",
    "model = LinearRegression() \n",
    "\n",
    "# model performance on different test sets 20%, 30%, 40% \n",
    "lowest = 1\n",
    "best_sample = 0.0\n",
    "for test_sample in (0.2, 0.3, 0.4): \n",
    "        # fit the decision tree regressor     \n",
    "        X_train, X_test, y_train, y_test = train_test_split(df_inputs, df_label, \n",
    "                test_size=test_sample, random_state=7) \n",
    "        model.fit(X_train, y_train)\n",
    "        #Predict the response for test dataset\n",
    "        y_predict = model.predict(X_test)\n",
    "        print('Test set size ', test_sample,\n",
    "           ': MSE =', round(metrics.mean_squared_error(y_test, y_predict),3), #MSE\n",
    "           ', RMSE =', round(math.sqrt(metrics.mean_squared_error(y_test, y_predict)),3), #RMSE\n",
    "           ', MAE =', round(metrics.mean_absolute_error(y_test, y_predict),3), #MAE\n",
    "           ', R2 =', round(metrics.r2_score(y_test, y_predict),3) ) #R2"
   ]
  },
  {
   "cell_type": "markdown",
   "metadata": {},
   "source": [
    "The results show that the model trained on the churn data with a 0.7 ratio of the training set (i.e., 0.3 for the test set) makes fewer errors and achieves the highest R2 in prediction compared to other training set sizes of 0.6 and 0.8. \n",
    "\n",
    "**NOTE**:  For a detailed explanation of the Python API performance metrics() parameters, refer to the official website, https://scikit-learn.org/stable/modules/model_evaluation.html"
   ]
  }
 ],
 "metadata": {
  "kernelspec": {
   "display_name": "Python 3",
   "language": "python",
   "name": "python3"
  },
  "language_info": {
   "codemirror_mode": {
    "name": "ipython",
    "version": 3
   },
   "file_extension": ".py",
   "mimetype": "text/x-python",
   "name": "python",
   "nbconvert_exporter": "python",
   "pygments_lexer": "ipython3",
   "version": "3.12.2"
  }
 },
 "nbformat": 4,
 "nbformat_minor": 2
}
